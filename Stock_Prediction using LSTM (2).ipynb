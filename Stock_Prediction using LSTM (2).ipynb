{
 "cells": [
  {
   "cell_type": "markdown",
   "id": "d840e232",
   "metadata": {},
   "source": [
    "# Stock Prediction using LSTM"
   ]
  },
  {
   "cell_type": "markdown",
   "id": "cd3e211d",
   "metadata": {},
   "source": [
    "# Importing Modules"
   ]
  },
  {
   "cell_type": "code",
   "execution_count": 3,
   "id": "2a0d5a7f",
   "metadata": {},
   "outputs": [
    {
     "name": "stdout",
     "output_type": "stream",
     "text": [
      "Requirement already satisfied: numpy in c:\\users\\chakri ponnada\\anaconda3\\lib\\site-packages (1.23.5)\n",
      "Requirement already satisfied: pandas in c:\\users\\chakri ponnada\\anaconda3\\lib\\site-packages (1.5.3)\n",
      "Requirement already satisfied: keras in c:\\users\\chakri ponnada\\anaconda3\\lib\\site-packages (2.13.1)\n",
      "Requirement already satisfied: tensorflow in c:\\users\\chakri ponnada\\anaconda3\\lib\\site-packages (2.13.0)\n",
      "Requirement already satisfied: pytz>=2020.1 in c:\\users\\chakri ponnada\\anaconda3\\lib\\site-packages (from pandas) (2022.7)\n",
      "Requirement already satisfied: python-dateutil>=2.8.1 in c:\\users\\chakri ponnada\\anaconda3\\lib\\site-packages (from pandas) (2.8.2)\n",
      "Requirement already satisfied: tensorflow-intel==2.13.0 in c:\\users\\chakri ponnada\\anaconda3\\lib\\site-packages (from tensorflow) (2.13.0)\n",
      "Requirement already satisfied: six>=1.12.0 in c:\\users\\chakri ponnada\\anaconda3\\lib\\site-packages (from tensorflow-intel==2.13.0->tensorflow) (1.16.0)\n",
      "Requirement already satisfied: tensorboard<2.14,>=2.13 in c:\\users\\chakri ponnada\\anaconda3\\lib\\site-packages (from tensorflow-intel==2.13.0->tensorflow) (2.13.0)\n",
      "Requirement already satisfied: astunparse>=1.6.0 in c:\\users\\chakri ponnada\\anaconda3\\lib\\site-packages (from tensorflow-intel==2.13.0->tensorflow) (1.6.3)\n",
      "Requirement already satisfied: protobuf!=4.21.0,!=4.21.1,!=4.21.2,!=4.21.3,!=4.21.4,!=4.21.5,<5.0.0dev,>=3.20.3 in c:\\users\\chakri ponnada\\anaconda3\\lib\\site-packages (from tensorflow-intel==2.13.0->tensorflow) (4.23.4)\n",
      "Requirement already satisfied: wrapt>=1.11.0 in c:\\users\\chakri ponnada\\anaconda3\\lib\\site-packages (from tensorflow-intel==2.13.0->tensorflow) (1.14.1)\n",
      "Requirement already satisfied: grpcio<2.0,>=1.24.3 in c:\\users\\chakri ponnada\\anaconda3\\lib\\site-packages (from tensorflow-intel==2.13.0->tensorflow) (1.56.0)\n",
      "Requirement already satisfied: flatbuffers>=23.1.21 in c:\\users\\chakri ponnada\\anaconda3\\lib\\site-packages (from tensorflow-intel==2.13.0->tensorflow) (23.5.26)\n",
      "Requirement already satisfied: opt-einsum>=2.3.2 in c:\\users\\chakri ponnada\\anaconda3\\lib\\site-packages (from tensorflow-intel==2.13.0->tensorflow) (3.3.0)\n",
      "Requirement already satisfied: setuptools in c:\\users\\chakri ponnada\\anaconda3\\lib\\site-packages (from tensorflow-intel==2.13.0->tensorflow) (65.6.3)\n",
      "Requirement already satisfied: absl-py>=1.0.0 in c:\\users\\chakri ponnada\\anaconda3\\lib\\site-packages (from tensorflow-intel==2.13.0->tensorflow) (1.4.0)\n",
      "Requirement already satisfied: gast<=0.4.0,>=0.2.1 in c:\\users\\chakri ponnada\\anaconda3\\lib\\site-packages (from tensorflow-intel==2.13.0->tensorflow) (0.4.0)\n",
      "Requirement already satisfied: h5py>=2.9.0 in c:\\users\\chakri ponnada\\anaconda3\\lib\\site-packages (from tensorflow-intel==2.13.0->tensorflow) (3.7.0)\n",
      "Requirement already satisfied: libclang>=13.0.0 in c:\\users\\chakri ponnada\\anaconda3\\lib\\site-packages (from tensorflow-intel==2.13.0->tensorflow) (16.0.0)\n",
      "Requirement already satisfied: termcolor>=1.1.0 in c:\\users\\chakri ponnada\\anaconda3\\lib\\site-packages (from tensorflow-intel==2.13.0->tensorflow) (2.3.0)\n",
      "Requirement already satisfied: packaging in c:\\users\\chakri ponnada\\anaconda3\\lib\\site-packages (from tensorflow-intel==2.13.0->tensorflow) (22.0)\n",
      "Requirement already satisfied: tensorflow-io-gcs-filesystem>=0.23.1 in c:\\users\\chakri ponnada\\anaconda3\\lib\\site-packages (from tensorflow-intel==2.13.0->tensorflow) (0.31.0)\n",
      "Requirement already satisfied: google-pasta>=0.1.1 in c:\\users\\chakri ponnada\\anaconda3\\lib\\site-packages (from tensorflow-intel==2.13.0->tensorflow) (0.2.0)\n",
      "Requirement already satisfied: tensorflow-estimator<2.14,>=2.13.0 in c:\\users\\chakri ponnada\\anaconda3\\lib\\site-packages (from tensorflow-intel==2.13.0->tensorflow) (2.13.0)\n",
      "Requirement already satisfied: typing-extensions<4.6.0,>=3.6.6 in c:\\users\\chakri ponnada\\anaconda3\\lib\\site-packages (from tensorflow-intel==2.13.0->tensorflow) (3.10.0.0)\n",
      "Requirement already satisfied: wheel<1.0,>=0.23.0 in c:\\users\\chakri ponnada\\anaconda3\\lib\\site-packages (from astunparse>=1.6.0->tensorflow-intel==2.13.0->tensorflow) (0.38.4)\n",
      "Requirement already satisfied: werkzeug>=1.0.1 in c:\\users\\chakri ponnada\\anaconda3\\lib\\site-packages (from tensorboard<2.14,>=2.13->tensorflow-intel==2.13.0->tensorflow) (2.2.2)\n",
      "Requirement already satisfied: tensorboard-data-server<0.8.0,>=0.7.0 in c:\\users\\chakri ponnada\\anaconda3\\lib\\site-packages (from tensorboard<2.14,>=2.13->tensorflow-intel==2.13.0->tensorflow) (0.7.1)\n",
      "Requirement already satisfied: requests<3,>=2.21.0 in c:\\users\\chakri ponnada\\anaconda3\\lib\\site-packages (from tensorboard<2.14,>=2.13->tensorflow-intel==2.13.0->tensorflow) (2.28.1)\n",
      "Requirement already satisfied: google-auth<3,>=1.6.3 in c:\\users\\chakri ponnada\\anaconda3\\lib\\site-packages (from tensorboard<2.14,>=2.13->tensorflow-intel==2.13.0->tensorflow) (2.21.0)\n",
      "Requirement already satisfied: markdown>=2.6.8 in c:\\users\\chakri ponnada\\anaconda3\\lib\\site-packages (from tensorboard<2.14,>=2.13->tensorflow-intel==2.13.0->tensorflow) (3.4.1)\n",
      "Requirement already satisfied: google-auth-oauthlib<1.1,>=0.5 in c:\\users\\chakri ponnada\\anaconda3\\lib\\site-packages (from tensorboard<2.14,>=2.13->tensorflow-intel==2.13.0->tensorflow) (1.0.0)\n",
      "Requirement already satisfied: rsa<5,>=3.1.4 in c:\\users\\chakri ponnada\\anaconda3\\lib\\site-packages (from google-auth<3,>=1.6.3->tensorboard<2.14,>=2.13->tensorflow-intel==2.13.0->tensorflow) (4.9)\n",
      "Requirement already satisfied: pyasn1-modules>=0.2.1 in c:\\users\\chakri ponnada\\anaconda3\\lib\\site-packages (from google-auth<3,>=1.6.3->tensorboard<2.14,>=2.13->tensorflow-intel==2.13.0->tensorflow) (0.2.8)\n",
      "Requirement already satisfied: cachetools<6.0,>=2.0.0 in c:\\users\\chakri ponnada\\anaconda3\\lib\\site-packages (from google-auth<3,>=1.6.3->tensorboard<2.14,>=2.13->tensorflow-intel==2.13.0->tensorflow) (5.3.1)\n",
      "Requirement already satisfied: urllib3<2.0 in c:\\users\\chakri ponnada\\anaconda3\\lib\\site-packages (from google-auth<3,>=1.6.3->tensorboard<2.14,>=2.13->tensorflow-intel==2.13.0->tensorflow) (1.26.14)\n",
      "Requirement already satisfied: requests-oauthlib>=0.7.0 in c:\\users\\chakri ponnada\\anaconda3\\lib\\site-packages (from google-auth-oauthlib<1.1,>=0.5->tensorboard<2.14,>=2.13->tensorflow-intel==2.13.0->tensorflow) (1.3.1)\n",
      "Requirement already satisfied: charset-normalizer<3,>=2 in c:\\users\\chakri ponnada\\anaconda3\\lib\\site-packages (from requests<3,>=2.21.0->tensorboard<2.14,>=2.13->tensorflow-intel==2.13.0->tensorflow) (2.0.4)\n",
      "Requirement already satisfied: certifi>=2017.4.17 in c:\\users\\chakri ponnada\\anaconda3\\lib\\site-packages (from requests<3,>=2.21.0->tensorboard<2.14,>=2.13->tensorflow-intel==2.13.0->tensorflow) (2023.5.7)\n",
      "Requirement already satisfied: idna<4,>=2.5 in c:\\users\\chakri ponnada\\anaconda3\\lib\\site-packages (from requests<3,>=2.21.0->tensorboard<2.14,>=2.13->tensorflow-intel==2.13.0->tensorflow) (3.4)\n",
      "Requirement already satisfied: MarkupSafe>=2.1.1 in c:\\users\\chakri ponnada\\anaconda3\\lib\\site-packages (from werkzeug>=1.0.1->tensorboard<2.14,>=2.13->tensorflow-intel==2.13.0->tensorflow) (2.1.1)\n",
      "Requirement already satisfied: pyasn1<0.5.0,>=0.4.6 in c:\\users\\chakri ponnada\\anaconda3\\lib\\site-packages (from pyasn1-modules>=0.2.1->google-auth<3,>=1.6.3->tensorboard<2.14,>=2.13->tensorflow-intel==2.13.0->tensorflow) (0.4.8)\n",
      "Requirement already satisfied: oauthlib>=3.0.0 in c:\\users\\chakri ponnada\\anaconda3\\lib\\site-packages (from requests-oauthlib>=0.7.0->google-auth-oauthlib<1.1,>=0.5->tensorboard<2.14,>=2.13->tensorflow-intel==2.13.0->tensorflow) (3.2.2)\n",
      "Note: you may need to restart the kernel to use updated packages.\n"
     ]
    }
   ],
   "source": [
    "pip install numpy pandas keras tensorflow"
   ]
  },
  {
   "cell_type": "code",
   "execution_count": 4,
   "id": "7c0f71d5",
   "metadata": {},
   "outputs": [],
   "source": [
    "import numpy as np\n",
    "import pandas as pd\n",
    "import matplotlib.pyplot as plt \n",
    "from sklearn import model_selection\n",
    "from sklearn.metrics import confusion_matrix\n",
    "from sklearn.preprocessing import StandardScaler\n",
    "from sklearn.model_selection import train_test_split\n",
    "from sklearn.preprocessing import MinMaxScaler\n",
    "from keras.models import Sequential\n",
    "from keras.layers import Dense\n",
    "from keras.layers import LSTM\n",
    "from keras.layers import Dropout"
   ]
  },
  {
   "cell_type": "markdown",
   "id": "5a2147b1",
   "metadata": {},
   "source": [
    "# Reading the Dataset"
   ]
  },
  {
   "cell_type": "code",
   "execution_count": 37,
   "id": "ea4acb85",
   "metadata": {},
   "outputs": [
    {
     "data": {
      "text/html": [
       "<div>\n",
       "<style scoped>\n",
       "    .dataframe tbody tr th:only-of-type {\n",
       "        vertical-align: middle;\n",
       "    }\n",
       "\n",
       "    .dataframe tbody tr th {\n",
       "        vertical-align: top;\n",
       "    }\n",
       "\n",
       "    .dataframe thead th {\n",
       "        text-align: right;\n",
       "    }\n",
       "</style>\n",
       "<table border=\"1\" class=\"dataframe\">\n",
       "  <thead>\n",
       "    <tr style=\"text-align: right;\">\n",
       "      <th></th>\n",
       "      <th>Date</th>\n",
       "      <th>Open</th>\n",
       "      <th>High</th>\n",
       "      <th>Low</th>\n",
       "      <th>Close</th>\n",
       "      <th>Adj Close</th>\n",
       "      <th>Volume</th>\n",
       "    </tr>\n",
       "  </thead>\n",
       "  <tbody>\n",
       "    <tr>\n",
       "      <th>0</th>\n",
       "      <td>2010-06-29</td>\n",
       "      <td>19.000000</td>\n",
       "      <td>25.00</td>\n",
       "      <td>17.540001</td>\n",
       "      <td>23.889999</td>\n",
       "      <td>23.889999</td>\n",
       "      <td>18766300</td>\n",
       "    </tr>\n",
       "    <tr>\n",
       "      <th>1</th>\n",
       "      <td>2010-06-30</td>\n",
       "      <td>25.790001</td>\n",
       "      <td>30.42</td>\n",
       "      <td>23.299999</td>\n",
       "      <td>23.830000</td>\n",
       "      <td>23.830000</td>\n",
       "      <td>17187100</td>\n",
       "    </tr>\n",
       "    <tr>\n",
       "      <th>2</th>\n",
       "      <td>2010-07-01</td>\n",
       "      <td>25.000000</td>\n",
       "      <td>25.92</td>\n",
       "      <td>20.270000</td>\n",
       "      <td>21.959999</td>\n",
       "      <td>21.959999</td>\n",
       "      <td>8218800</td>\n",
       "    </tr>\n",
       "    <tr>\n",
       "      <th>3</th>\n",
       "      <td>2010-07-02</td>\n",
       "      <td>23.000000</td>\n",
       "      <td>23.10</td>\n",
       "      <td>18.709999</td>\n",
       "      <td>19.200001</td>\n",
       "      <td>19.200001</td>\n",
       "      <td>5139800</td>\n",
       "    </tr>\n",
       "    <tr>\n",
       "      <th>4</th>\n",
       "      <td>2010-07-06</td>\n",
       "      <td>20.000000</td>\n",
       "      <td>20.00</td>\n",
       "      <td>15.830000</td>\n",
       "      <td>16.110001</td>\n",
       "      <td>16.110001</td>\n",
       "      <td>6866900</td>\n",
       "    </tr>\n",
       "  </tbody>\n",
       "</table>\n",
       "</div>"
      ],
      "text/plain": [
       "         Date       Open   High        Low      Close  Adj Close    Volume\n",
       "0  2010-06-29  19.000000  25.00  17.540001  23.889999  23.889999  18766300\n",
       "1  2010-06-30  25.790001  30.42  23.299999  23.830000  23.830000  17187100\n",
       "2  2010-07-01  25.000000  25.92  20.270000  21.959999  21.959999   8218800\n",
       "3  2010-07-02  23.000000  23.10  18.709999  19.200001  19.200001   5139800\n",
       "4  2010-07-06  20.000000  20.00  15.830000  16.110001  16.110001   6866900"
      ]
     },
     "execution_count": 37,
     "metadata": {},
     "output_type": "execute_result"
    }
   ],
   "source": [
    "df=pd.read_csv(\"TSLA (2).csv\")\n",
    "df.head()"
   ]
  },
  {
   "cell_type": "code",
   "execution_count": 38,
   "id": "ad2f8e47",
   "metadata": {},
   "outputs": [
    {
     "data": {
      "text/html": [
       "<div>\n",
       "<style scoped>\n",
       "    .dataframe tbody tr th:only-of-type {\n",
       "        vertical-align: middle;\n",
       "    }\n",
       "\n",
       "    .dataframe tbody tr th {\n",
       "        vertical-align: top;\n",
       "    }\n",
       "\n",
       "    .dataframe thead th {\n",
       "        text-align: right;\n",
       "    }\n",
       "</style>\n",
       "<table border=\"1\" class=\"dataframe\">\n",
       "  <thead>\n",
       "    <tr style=\"text-align: right;\">\n",
       "      <th></th>\n",
       "      <th>Date</th>\n",
       "      <th>Open</th>\n",
       "      <th>High</th>\n",
       "      <th>Low</th>\n",
       "      <th>Close</th>\n",
       "      <th>Adj Close</th>\n",
       "      <th>Volume</th>\n",
       "    </tr>\n",
       "  </thead>\n",
       "  <tbody>\n",
       "    <tr>\n",
       "      <th>2411</th>\n",
       "      <td>2020-01-28</td>\n",
       "      <td>568.489990</td>\n",
       "      <td>576.809998</td>\n",
       "      <td>558.080017</td>\n",
       "      <td>566.900024</td>\n",
       "      <td>566.900024</td>\n",
       "      <td>11788500</td>\n",
       "    </tr>\n",
       "    <tr>\n",
       "      <th>2412</th>\n",
       "      <td>2020-01-29</td>\n",
       "      <td>575.690002</td>\n",
       "      <td>589.799988</td>\n",
       "      <td>567.429993</td>\n",
       "      <td>580.989990</td>\n",
       "      <td>580.989990</td>\n",
       "      <td>17801500</td>\n",
       "    </tr>\n",
       "    <tr>\n",
       "      <th>2413</th>\n",
       "      <td>2020-01-30</td>\n",
       "      <td>632.419983</td>\n",
       "      <td>650.880005</td>\n",
       "      <td>618.000000</td>\n",
       "      <td>640.809998</td>\n",
       "      <td>640.809998</td>\n",
       "      <td>29005700</td>\n",
       "    </tr>\n",
       "    <tr>\n",
       "      <th>2414</th>\n",
       "      <td>2020-01-31</td>\n",
       "      <td>640.000000</td>\n",
       "      <td>653.000000</td>\n",
       "      <td>632.520020</td>\n",
       "      <td>650.570007</td>\n",
       "      <td>650.570007</td>\n",
       "      <td>15719300</td>\n",
       "    </tr>\n",
       "    <tr>\n",
       "      <th>2415</th>\n",
       "      <td>2020-02-03</td>\n",
       "      <td>673.690002</td>\n",
       "      <td>786.140015</td>\n",
       "      <td>673.520020</td>\n",
       "      <td>780.000000</td>\n",
       "      <td>780.000000</td>\n",
       "      <td>47065000</td>\n",
       "    </tr>\n",
       "  </tbody>\n",
       "</table>\n",
       "</div>"
      ],
      "text/plain": [
       "            Date        Open        High         Low       Close   Adj Close  \\\n",
       "2411  2020-01-28  568.489990  576.809998  558.080017  566.900024  566.900024   \n",
       "2412  2020-01-29  575.690002  589.799988  567.429993  580.989990  580.989990   \n",
       "2413  2020-01-30  632.419983  650.880005  618.000000  640.809998  640.809998   \n",
       "2414  2020-01-31  640.000000  653.000000  632.520020  650.570007  650.570007   \n",
       "2415  2020-02-03  673.690002  786.140015  673.520020  780.000000  780.000000   \n",
       "\n",
       "        Volume  \n",
       "2411  11788500  \n",
       "2412  17801500  \n",
       "2413  29005700  \n",
       "2414  15719300  \n",
       "2415  47065000  "
      ]
     },
     "execution_count": 38,
     "metadata": {},
     "output_type": "execute_result"
    }
   ],
   "source": [
    "df.tail()"
   ]
  },
  {
   "cell_type": "markdown",
   "id": "c6754429",
   "metadata": {},
   "source": [
    "Displaying Basic Statistics about Data"
   ]
  },
  {
   "cell_type": "code",
   "execution_count": 39,
   "id": "a79c21db",
   "metadata": {},
   "outputs": [
    {
     "data": {
      "text/html": [
       "<div>\n",
       "<style scoped>\n",
       "    .dataframe tbody tr th:only-of-type {\n",
       "        vertical-align: middle;\n",
       "    }\n",
       "\n",
       "    .dataframe tbody tr th {\n",
       "        vertical-align: top;\n",
       "    }\n",
       "\n",
       "    .dataframe thead th {\n",
       "        text-align: right;\n",
       "    }\n",
       "</style>\n",
       "<table border=\"1\" class=\"dataframe\">\n",
       "  <thead>\n",
       "    <tr style=\"text-align: right;\">\n",
       "      <th></th>\n",
       "      <th>Open</th>\n",
       "      <th>High</th>\n",
       "      <th>Low</th>\n",
       "      <th>Close</th>\n",
       "      <th>Adj Close</th>\n",
       "      <th>Volume</th>\n",
       "    </tr>\n",
       "  </thead>\n",
       "  <tbody>\n",
       "    <tr>\n",
       "      <th>count</th>\n",
       "      <td>2416.000000</td>\n",
       "      <td>2416.000000</td>\n",
       "      <td>2416.000000</td>\n",
       "      <td>2416.000000</td>\n",
       "      <td>2416.000000</td>\n",
       "      <td>2.416000e+03</td>\n",
       "    </tr>\n",
       "    <tr>\n",
       "      <th>mean</th>\n",
       "      <td>186.271147</td>\n",
       "      <td>189.578224</td>\n",
       "      <td>182.916639</td>\n",
       "      <td>186.403651</td>\n",
       "      <td>186.403651</td>\n",
       "      <td>5.572722e+06</td>\n",
       "    </tr>\n",
       "    <tr>\n",
       "      <th>std</th>\n",
       "      <td>118.740163</td>\n",
       "      <td>120.892329</td>\n",
       "      <td>116.857591</td>\n",
       "      <td>119.136020</td>\n",
       "      <td>119.136020</td>\n",
       "      <td>4.987809e+06</td>\n",
       "    </tr>\n",
       "    <tr>\n",
       "      <th>min</th>\n",
       "      <td>16.139999</td>\n",
       "      <td>16.629999</td>\n",
       "      <td>14.980000</td>\n",
       "      <td>15.800000</td>\n",
       "      <td>15.800000</td>\n",
       "      <td>1.185000e+05</td>\n",
       "    </tr>\n",
       "    <tr>\n",
       "      <th>25%</th>\n",
       "      <td>34.342498</td>\n",
       "      <td>34.897501</td>\n",
       "      <td>33.587501</td>\n",
       "      <td>34.400002</td>\n",
       "      <td>34.400002</td>\n",
       "      <td>1.899275e+06</td>\n",
       "    </tr>\n",
       "    <tr>\n",
       "      <th>50%</th>\n",
       "      <td>213.035004</td>\n",
       "      <td>216.745002</td>\n",
       "      <td>208.870002</td>\n",
       "      <td>212.960007</td>\n",
       "      <td>212.960007</td>\n",
       "      <td>4.578400e+06</td>\n",
       "    </tr>\n",
       "    <tr>\n",
       "      <th>75%</th>\n",
       "      <td>266.450012</td>\n",
       "      <td>270.927513</td>\n",
       "      <td>262.102501</td>\n",
       "      <td>266.774994</td>\n",
       "      <td>266.774994</td>\n",
       "      <td>7.361150e+06</td>\n",
       "    </tr>\n",
       "    <tr>\n",
       "      <th>max</th>\n",
       "      <td>673.690002</td>\n",
       "      <td>786.140015</td>\n",
       "      <td>673.520020</td>\n",
       "      <td>780.000000</td>\n",
       "      <td>780.000000</td>\n",
       "      <td>4.706500e+07</td>\n",
       "    </tr>\n",
       "  </tbody>\n",
       "</table>\n",
       "</div>"
      ],
      "text/plain": [
       "              Open         High          Low        Close    Adj Close  \\\n",
       "count  2416.000000  2416.000000  2416.000000  2416.000000  2416.000000   \n",
       "mean    186.271147   189.578224   182.916639   186.403651   186.403651   \n",
       "std     118.740163   120.892329   116.857591   119.136020   119.136020   \n",
       "min      16.139999    16.629999    14.980000    15.800000    15.800000   \n",
       "25%      34.342498    34.897501    33.587501    34.400002    34.400002   \n",
       "50%     213.035004   216.745002   208.870002   212.960007   212.960007   \n",
       "75%     266.450012   270.927513   262.102501   266.774994   266.774994   \n",
       "max     673.690002   786.140015   673.520020   780.000000   780.000000   \n",
       "\n",
       "             Volume  \n",
       "count  2.416000e+03  \n",
       "mean   5.572722e+06  \n",
       "std    4.987809e+06  \n",
       "min    1.185000e+05  \n",
       "25%    1.899275e+06  \n",
       "50%    4.578400e+06  \n",
       "75%    7.361150e+06  \n",
       "max    4.706500e+07  "
      ]
     },
     "execution_count": 39,
     "metadata": {},
     "output_type": "execute_result"
    }
   ],
   "source": [
    "df.describe()"
   ]
  },
  {
   "cell_type": "markdown",
   "id": "6bd674b8",
   "metadata": {},
   "source": [
    "Sorting the Data"
   ]
  },
  {
   "cell_type": "markdown",
   "id": "ea49a407",
   "metadata": {},
   "source": [
    "Checking for Null Values"
   ]
  },
  {
   "cell_type": "code",
   "execution_count": 40,
   "id": "8d3de927",
   "metadata": {},
   "outputs": [
    {
     "data": {
      "text/html": [
       "<div>\n",
       "<style scoped>\n",
       "    .dataframe tbody tr th:only-of-type {\n",
       "        vertical-align: middle;\n",
       "    }\n",
       "\n",
       "    .dataframe tbody tr th {\n",
       "        vertical-align: top;\n",
       "    }\n",
       "\n",
       "    .dataframe thead th {\n",
       "        text-align: right;\n",
       "    }\n",
       "</style>\n",
       "<table border=\"1\" class=\"dataframe\">\n",
       "  <thead>\n",
       "    <tr style=\"text-align: right;\">\n",
       "      <th></th>\n",
       "      <th>column_name</th>\n",
       "      <th>percentage</th>\n",
       "    </tr>\n",
       "  </thead>\n",
       "  <tbody>\n",
       "    <tr>\n",
       "      <th>0</th>\n",
       "      <td>Date</td>\n",
       "      <td>0.0</td>\n",
       "    </tr>\n",
       "    <tr>\n",
       "      <th>1</th>\n",
       "      <td>Open</td>\n",
       "      <td>0.0</td>\n",
       "    </tr>\n",
       "    <tr>\n",
       "      <th>2</th>\n",
       "      <td>High</td>\n",
       "      <td>0.0</td>\n",
       "    </tr>\n",
       "    <tr>\n",
       "      <th>3</th>\n",
       "      <td>Low</td>\n",
       "      <td>0.0</td>\n",
       "    </tr>\n",
       "    <tr>\n",
       "      <th>4</th>\n",
       "      <td>Close</td>\n",
       "      <td>0.0</td>\n",
       "    </tr>\n",
       "    <tr>\n",
       "      <th>5</th>\n",
       "      <td>Adj Close</td>\n",
       "      <td>0.0</td>\n",
       "    </tr>\n",
       "    <tr>\n",
       "      <th>6</th>\n",
       "      <td>Volume</td>\n",
       "      <td>0.0</td>\n",
       "    </tr>\n",
       "  </tbody>\n",
       "</table>\n",
       "</div>"
      ],
      "text/plain": [
       "  column_name  percentage\n",
       "0        Date         0.0\n",
       "1        Open         0.0\n",
       "2        High         0.0\n",
       "3         Low         0.0\n",
       "4       Close         0.0\n",
       "5   Adj Close         0.0\n",
       "6      Volume         0.0"
      ]
     },
     "execution_count": 40,
     "metadata": {},
     "output_type": "execute_result"
    }
   ],
   "source": [
    "NAN = [(c, df[c].isnull().mean()*100) for c in df]\n",
    "NAN = pd.DataFrame(NAN, columns=['column_name', 'percentage'])\n",
    "NAN"
   ]
  },
  {
   "cell_type": "code",
   "execution_count": 41,
   "id": "9214cfd0",
   "metadata": {},
   "outputs": [
    {
     "data": {
      "text/html": [
       "<div>\n",
       "<style scoped>\n",
       "    .dataframe tbody tr th:only-of-type {\n",
       "        vertical-align: middle;\n",
       "    }\n",
       "\n",
       "    .dataframe tbody tr th {\n",
       "        vertical-align: top;\n",
       "    }\n",
       "\n",
       "    .dataframe thead th {\n",
       "        text-align: right;\n",
       "    }\n",
       "</style>\n",
       "<table border=\"1\" class=\"dataframe\">\n",
       "  <thead>\n",
       "    <tr style=\"text-align: right;\">\n",
       "      <th></th>\n",
       "      <th>Date</th>\n",
       "      <th>Open</th>\n",
       "      <th>High</th>\n",
       "      <th>Low</th>\n",
       "      <th>Close</th>\n",
       "      <th>Adj Close</th>\n",
       "      <th>Volume</th>\n",
       "    </tr>\n",
       "  </thead>\n",
       "  <tbody>\n",
       "    <tr>\n",
       "      <th>0</th>\n",
       "      <td>2010-06-29</td>\n",
       "      <td>19.000000</td>\n",
       "      <td>25.00</td>\n",
       "      <td>17.540001</td>\n",
       "      <td>23.889999</td>\n",
       "      <td>23.889999</td>\n",
       "      <td>18766300</td>\n",
       "    </tr>\n",
       "    <tr>\n",
       "      <th>1</th>\n",
       "      <td>2010-06-30</td>\n",
       "      <td>25.790001</td>\n",
       "      <td>30.42</td>\n",
       "      <td>23.299999</td>\n",
       "      <td>23.830000</td>\n",
       "      <td>23.830000</td>\n",
       "      <td>17187100</td>\n",
       "    </tr>\n",
       "    <tr>\n",
       "      <th>2</th>\n",
       "      <td>2010-07-01</td>\n",
       "      <td>25.000000</td>\n",
       "      <td>25.92</td>\n",
       "      <td>20.270000</td>\n",
       "      <td>21.959999</td>\n",
       "      <td>21.959999</td>\n",
       "      <td>8218800</td>\n",
       "    </tr>\n",
       "    <tr>\n",
       "      <th>3</th>\n",
       "      <td>2010-07-02</td>\n",
       "      <td>23.000000</td>\n",
       "      <td>23.10</td>\n",
       "      <td>18.709999</td>\n",
       "      <td>19.200001</td>\n",
       "      <td>19.200001</td>\n",
       "      <td>5139800</td>\n",
       "    </tr>\n",
       "    <tr>\n",
       "      <th>4</th>\n",
       "      <td>2010-07-06</td>\n",
       "      <td>20.000000</td>\n",
       "      <td>20.00</td>\n",
       "      <td>15.830000</td>\n",
       "      <td>16.110001</td>\n",
       "      <td>16.110001</td>\n",
       "      <td>6866900</td>\n",
       "    </tr>\n",
       "  </tbody>\n",
       "</table>\n",
       "</div>"
      ],
      "text/plain": [
       "         Date       Open   High        Low      Close  Adj Close    Volume\n",
       "0  2010-06-29  19.000000  25.00  17.540001  23.889999  23.889999  18766300\n",
       "1  2010-06-30  25.790001  30.42  23.299999  23.830000  23.830000  17187100\n",
       "2  2010-07-01  25.000000  25.92  20.270000  21.959999  21.959999   8218800\n",
       "3  2010-07-02  23.000000  23.10  18.709999  19.200001  19.200001   5139800\n",
       "4  2010-07-06  20.000000  20.00  15.830000  16.110001  16.110001   6866900"
      ]
     },
     "execution_count": 41,
     "metadata": {},
     "output_type": "execute_result"
    }
   ],
   "source": [
    "srt = df.sort_values(by='Date')\n",
    "srt.head()"
   ]
  },
  {
   "cell_type": "code",
   "execution_count": 42,
   "id": "352dc820",
   "metadata": {},
   "outputs": [],
   "source": [
    "srt.reset_index(inplace=True)"
   ]
  },
  {
   "cell_type": "code",
   "execution_count": 43,
   "id": "94f77e50",
   "metadata": {},
   "outputs": [
    {
     "data": {
      "text/html": [
       "<div>\n",
       "<style scoped>\n",
       "    .dataframe tbody tr th:only-of-type {\n",
       "        vertical-align: middle;\n",
       "    }\n",
       "\n",
       "    .dataframe tbody tr th {\n",
       "        vertical-align: top;\n",
       "    }\n",
       "\n",
       "    .dataframe thead th {\n",
       "        text-align: right;\n",
       "    }\n",
       "</style>\n",
       "<table border=\"1\" class=\"dataframe\">\n",
       "  <thead>\n",
       "    <tr style=\"text-align: right;\">\n",
       "      <th></th>\n",
       "      <th>index</th>\n",
       "      <th>Date</th>\n",
       "      <th>Open</th>\n",
       "      <th>High</th>\n",
       "      <th>Low</th>\n",
       "      <th>Close</th>\n",
       "      <th>Adj Close</th>\n",
       "      <th>Volume</th>\n",
       "    </tr>\n",
       "  </thead>\n",
       "  <tbody>\n",
       "    <tr>\n",
       "      <th>0</th>\n",
       "      <td>0</td>\n",
       "      <td>2010-06-29</td>\n",
       "      <td>19.000000</td>\n",
       "      <td>25.00</td>\n",
       "      <td>17.540001</td>\n",
       "      <td>23.889999</td>\n",
       "      <td>23.889999</td>\n",
       "      <td>18766300</td>\n",
       "    </tr>\n",
       "    <tr>\n",
       "      <th>1</th>\n",
       "      <td>1</td>\n",
       "      <td>2010-06-30</td>\n",
       "      <td>25.790001</td>\n",
       "      <td>30.42</td>\n",
       "      <td>23.299999</td>\n",
       "      <td>23.830000</td>\n",
       "      <td>23.830000</td>\n",
       "      <td>17187100</td>\n",
       "    </tr>\n",
       "    <tr>\n",
       "      <th>2</th>\n",
       "      <td>2</td>\n",
       "      <td>2010-07-01</td>\n",
       "      <td>25.000000</td>\n",
       "      <td>25.92</td>\n",
       "      <td>20.270000</td>\n",
       "      <td>21.959999</td>\n",
       "      <td>21.959999</td>\n",
       "      <td>8218800</td>\n",
       "    </tr>\n",
       "    <tr>\n",
       "      <th>3</th>\n",
       "      <td>3</td>\n",
       "      <td>2010-07-02</td>\n",
       "      <td>23.000000</td>\n",
       "      <td>23.10</td>\n",
       "      <td>18.709999</td>\n",
       "      <td>19.200001</td>\n",
       "      <td>19.200001</td>\n",
       "      <td>5139800</td>\n",
       "    </tr>\n",
       "    <tr>\n",
       "      <th>4</th>\n",
       "      <td>4</td>\n",
       "      <td>2010-07-06</td>\n",
       "      <td>20.000000</td>\n",
       "      <td>20.00</td>\n",
       "      <td>15.830000</td>\n",
       "      <td>16.110001</td>\n",
       "      <td>16.110001</td>\n",
       "      <td>6866900</td>\n",
       "    </tr>\n",
       "  </tbody>\n",
       "</table>\n",
       "</div>"
      ],
      "text/plain": [
       "   index        Date       Open   High        Low      Close  Adj Close  \\\n",
       "0      0  2010-06-29  19.000000  25.00  17.540001  23.889999  23.889999   \n",
       "1      1  2010-06-30  25.790001  30.42  23.299999  23.830000  23.830000   \n",
       "2      2  2010-07-01  25.000000  25.92  20.270000  21.959999  21.959999   \n",
       "3      3  2010-07-02  23.000000  23.10  18.709999  19.200001  19.200001   \n",
       "4      4  2010-07-06  20.000000  20.00  15.830000  16.110001  16.110001   \n",
       "\n",
       "     Volume  \n",
       "0  18766300  \n",
       "1  17187100  \n",
       "2   8218800  \n",
       "3   5139800  \n",
       "4   6866900  "
      ]
     },
     "execution_count": 43,
     "metadata": {},
     "output_type": "execute_result"
    }
   ],
   "source": [
    "srt.head()"
   ]
  },
  {
   "cell_type": "markdown",
   "id": "61cf4451",
   "metadata": {},
   "source": [
    "# Data Visualization"
   ]
  },
  {
   "cell_type": "markdown",
   "id": "344d9287",
   "metadata": {},
   "source": [
    "Plotting the graph for the Data and Close"
   ]
  },
  {
   "cell_type": "code",
   "execution_count": 44,
   "id": "7cf5a2d0",
   "metadata": {},
   "outputs": [
    {
     "data": {
      "text/plain": [
       "[<matplotlib.lines.Line2D at 0x2d807c2c2b0>]"
      ]
     },
     "execution_count": 44,
     "metadata": {},
     "output_type": "execute_result"
    },
    {
     "data": {
      "image/png": "[encoded data removed]",
      "text/plain": [
       "<Figure size 1000x700 with 1 Axes>"
      ]
     },
     "metadata": {},
     "output_type": "display_data"
    }
   ],
   "source": [
    "plt.figure(figsize=(10,7))\n",
    "plt.plot(srt['Date'], srt['Close'])"
   ]
  },
  {
   "cell_type": "code",
   "execution_count": 45,
   "id": "4b80db61",
   "metadata": {},
   "outputs": [
    {
     "data": {
      "text/plain": [
       "0        23.889999\n",
       "1        23.830000\n",
       "2        21.959999\n",
       "3        19.200001\n",
       "4        16.110001\n",
       "           ...    \n",
       "2411    566.900024\n",
       "2412    580.989990\n",
       "2413    640.809998\n",
       "2414    650.570007\n",
       "2415    780.000000\n",
       "Name: Close, Length: 2416, dtype: float64"
      ]
     },
     "execution_count": 45,
     "metadata": {},
     "output_type": "execute_result"
    }
   ],
   "source": [
    "close_srt = srt['Close']\n",
    "close_srt"
   ]
  },
  {
   "cell_type": "markdown",
   "id": "df7b7196",
   "metadata": {},
   "source": [
    "# Feature Scaling(MinMax Scaler)"
   ]
  },
  {
   "cell_type": "code",
   "execution_count": 46,
   "id": "733e2917",
   "metadata": {},
   "outputs": [
    {
     "data": {
      "text/plain": [
       "array([[0.01058623],\n",
       "       [0.01050772],\n",
       "       [0.00806072],\n",
       "       ...,\n",
       "       [0.81786181],\n",
       "       [0.83063335],\n",
       "       [1.        ]])"
      ]
     },
     "execution_count": 46,
     "metadata": {},
     "output_type": "execute_result"
    }
   ],
   "source": [
    "scaler = MinMaxScaler(feature_range=(0,1))\n",
    "close_srt = scaler.fit_transform(np.array(close_srt).reshape(-1,1))\n",
    "close_srt\n"
   ]
  },
  {
   "cell_type": "markdown",
   "id": "dd0529c4",
   "metadata": {},
   "source": [
    "# Splitting the DataSet"
   ]
  },
  {
   "cell_type": "code",
   "execution_count": 47,
   "id": "4b2b8e89",
   "metadata": {},
   "outputs": [],
   "source": [
    "train_size = int(len(close_srt)*0.7)\n",
    "test_size = len(close_srt) - train_size\n",
    "train_data, test_data = close_srt[0:train_size,:],close_srt[train_size:len(close_srt),:1]"
   ]
  },
  {
   "cell_type": "code",
   "execution_count": 48,
   "id": "cf8e52d1",
   "metadata": {},
   "outputs": [
    {
     "data": {
      "text/plain": [
       "(1691, 1)"
      ]
     },
     "execution_count": 48,
     "metadata": {},
     "output_type": "execute_result"
    }
   ],
   "source": [
    "train_data.shape"
   ]
  },
  {
   "cell_type": "code",
   "execution_count": 49,
   "id": "f0f3ecc5",
   "metadata": {},
   "outputs": [
    {
     "data": {
      "text/plain": [
       "(725, 1)"
      ]
     },
     "execution_count": 49,
     "metadata": {},
     "output_type": "execute_result"
    }
   ],
   "source": [
    "test_data.shape"
   ]
  },
  {
   "cell_type": "markdown",
   "id": "3f112b5b",
   "metadata": {},
   "source": [
    "# Converting an array of values into a dataset matrix"
   ]
  },
  {
   "cell_type": "code",
   "execution_count": 50,
   "id": "bc84f19b",
   "metadata": {},
   "outputs": [],
   "source": [
    "def create_dataset(dataset, time_step=1):\n",
    "    dataX, dataY = [], []\n",
    "    for i in range(len(dataset)-time_step-1):\n",
    "        a = dataset[i:(i+time_step), 0]\n",
    "        dataX.append(a)\n",
    "        dataY.append(dataset[i+time_step, 0])\n",
    "    return np.array(dataX), np.array(dataY)"
   ]
  },
  {
   "cell_type": "markdown",
   "id": "58350097",
   "metadata": {},
   "source": [
    "# Reshaping of Dataset"
   ]
  },
  {
   "cell_type": "code",
   "execution_count": 55,
   "id": "de356629",
   "metadata": {},
   "outputs": [],
   "source": [
    "time_step = 1000\n",
    "X_train, y_train = create_dataset(train_data, time_step)\n",
    "X_test, y_test = create_dataset(test_data, time_step)"
   ]
  },
  {
   "cell_type": "code",
   "execution_count": 56,
   "id": "510d48bc",
   "metadata": {},
   "outputs": [
    {
     "name": "stdout",
     "output_type": "stream",
     "text": [
      "(690, 1000)\n",
      "(690,)\n"
     ]
    },
    {
     "data": {
      "text/plain": [
       "(None, None)"
      ]
     },
     "execution_count": 56,
     "metadata": {},
     "output_type": "execute_result"
    }
   ],
   "source": [
    "print(X_train.shape), print(y_train.shape)"
   ]
  },
  {
   "cell_type": "code",
   "execution_count": 57,
   "id": "f46f637c",
   "metadata": {},
   "outputs": [
    {
     "data": {
      "text/plain": [
       "(725, 1)"
      ]
     },
     "execution_count": 57,
     "metadata": {},
     "output_type": "execute_result"
    }
   ],
   "source": [
    "test_data.shape"
   ]
  },
  {
   "cell_type": "code",
   "execution_count": 58,
   "id": "6a4208cc",
   "metadata": {},
   "outputs": [],
   "source": [
    "X_train = X_train.reshape(X_train.shape[0], X_train.shape[1], 1)\n",
    "X_test = X_test.reshape(X_test.shape[0], test_data.shape[1], 1)"
   ]
  },
  {
   "cell_type": "code",
   "execution_count": 59,
   "id": "f88cd528",
   "metadata": {},
   "outputs": [
    {
     "data": {
      "text/plain": [
       "array([[[0.01058623],\n",
       "        [0.01050772],\n",
       "        [0.00806072],\n",
       "        ...,\n",
       "        [0.27323999],\n",
       "        [0.28247841],\n",
       "        [0.27652446]],\n",
       "\n",
       "       [[0.01050772],\n",
       "        [0.00806072],\n",
       "        [0.0044491 ],\n",
       "        ...,\n",
       "        [0.28247841],\n",
       "        [0.27652446],\n",
       "        [0.27740119]],\n",
       "\n",
       "       [[0.00806072],\n",
       "        [0.0044491 ],\n",
       "        [0.00040565],\n",
       "        ...,\n",
       "        [0.27652446],\n",
       "        [0.27740119],\n",
       "        [0.2797566 ]],\n",
       "\n",
       "       ...,\n",
       "\n",
       "       [[0.02724418],\n",
       "        [0.02843496],\n",
       "        [0.02886679],\n",
       "        ...,\n",
       "        [0.30236848],\n",
       "        [0.29979062],\n",
       "        [0.29820728]],\n",
       "\n",
       "       [[0.02843496],\n",
       "        [0.02886679],\n",
       "        [0.02925936],\n",
       "        ...,\n",
       "        [0.29979062],\n",
       "        [0.29820728],\n",
       "        [0.3014525 ]],\n",
       "\n",
       "       [[0.02886679],\n",
       "        [0.02925936],\n",
       "        [0.02890604],\n",
       "        ...,\n",
       "        [0.29820728],\n",
       "        [0.3014525 ],\n",
       "        [0.31693274]]])"
      ]
     },
     "execution_count": 59,
     "metadata": {},
     "output_type": "execute_result"
    }
   ],
   "source": [
    "X_train"
   ]
  },
  {
   "cell_type": "code",
   "execution_count": 60,
   "id": "bf4bade1",
   "metadata": {},
   "outputs": [
    {
     "data": {
      "text/plain": [
       "array([], shape=(0, 1, 1), dtype=float64)"
      ]
     },
     "execution_count": 60,
     "metadata": {},
     "output_type": "execute_result"
    }
   ],
   "source": [
    "X_test"
   ]
  },
  {
   "cell_type": "markdown",
   "id": "27d501d9",
   "metadata": {},
   "source": [
    "# Creating LSTM Model"
   ]
  },
  {
   "cell_type": "code",
   "execution_count": 64,
   "id": "842b569b",
   "metadata": {},
   "outputs": [],
   "source": [
    "model = Sequential()\n",
    "model.add(LSTM(50, return_sequences=True, input_shape=(1000,1)))\n",
    "model.add(LSTM(50, return_sequences=True))\n",
    "model.add(LSTM(50))\n",
    "model.add(Dense(1))\n",
    "model.compile(loss='mean_squared_error', optimizer='adam')"
   ]
  },
  {
   "cell_type": "code",
   "execution_count": 65,
   "id": "5717d7fb",
   "metadata": {},
   "outputs": [
    {
     "name": "stdout",
     "output_type": "stream",
     "text": [
      "Model: \"sequential_2\"\n",
      "_________________________________________________________________\n",
      " Layer (type)                Output Shape              Param #   \n",
      "=================================================================\n",
      " lstm_6 (LSTM)               (None, 1000, 50)          10400     \n",
      "                                                                 \n",
      " lstm_7 (LSTM)               (None, 1000, 50)          20200     \n",
      "                                                                 \n",
      " lstm_8 (LSTM)               (None, 50)                20200     \n",
      "                                                                 \n",
      " dense_2 (Dense)             (None, 1)                 51        \n",
      "                                                                 \n",
      "=================================================================\n",
      "Total params: 50851 (198.64 KB)\n",
      "Trainable params: 50851 (198.64 KB)\n",
      "Non-trainable params: 0 (0.00 Byte)\n",
      "_________________________________________________________________\n"
     ]
    }
   ],
   "source": [
    "model.summary()"
   ]
  },
  {
   "cell_type": "markdown",
   "id": "f4fea0d9",
   "metadata": {},
   "source": [
    "# Predicting and Checking Perfomance"
   ]
  },
  {
   "cell_type": "code",
   "execution_count": 66,
   "id": "0d346e92",
   "metadata": {},
   "outputs": [
    {
     "name": "stdout",
     "output_type": "stream",
     "text": [
      "Epoch 1/60\n",
      "10/10 [==============================] - 25s 2s/step - loss: 0.0144 - val_loss: 0.0056\n",
      "Epoch 2/60\n",
      "10/10 [==============================] - 21s 2s/step - loss: 0.0028 - val_loss: 5.5531e-04\n",
      "Epoch 3/60\n",
      "10/10 [==============================] - 22s 2s/step - loss: 0.0012 - val_loss: 0.0020\n",
      "Epoch 4/60\n",
      "10/10 [==============================] - 23s 2s/step - loss: 8.3168e-04 - val_loss: 3.6786e-04\n",
      "Epoch 5/60\n",
      "10/10 [==============================] - 24s 2s/step - loss: 6.3533e-04 - val_loss: 0.0010\n",
      "Epoch 6/60\n",
      "10/10 [==============================] - 25s 3s/step - loss: 5.6229e-04 - val_loss: 4.6221e-04\n",
      "Epoch 7/60\n",
      "10/10 [==============================] - 24s 2s/step - loss: 5.3795e-04 - val_loss: 7.7704e-04\n",
      "Epoch 8/60\n",
      "10/10 [==============================] - 22s 2s/step - loss: 5.3292e-04 - val_loss: 5.1419e-04\n",
      "Epoch 9/60\n",
      "10/10 [==============================] - 24s 2s/step - loss: 5.1313e-04 - val_loss: 7.0385e-04\n",
      "Epoch 10/60\n",
      "10/10 [==============================] - 23s 2s/step - loss: 5.1972e-04 - val_loss: 5.3680e-04\n",
      "Epoch 11/60\n",
      "10/10 [==============================] - 25s 2s/step - loss: 5.2427e-04 - val_loss: 3.9491e-04\n",
      "Epoch 12/60\n",
      "10/10 [==============================] - 23s 2s/step - loss: 5.3664e-04 - val_loss: 6.4008e-04\n",
      "Epoch 13/60\n",
      "10/10 [==============================] - 24s 2s/step - loss: 4.9371e-04 - val_loss: 6.0194e-04\n",
      "Epoch 14/60\n",
      "10/10 [==============================] - 27s 3s/step - loss: 4.7693e-04 - val_loss: 6.0703e-04\n",
      "Epoch 15/60\n",
      "10/10 [==============================] - 24s 2s/step - loss: 4.8447e-04 - val_loss: 8.2226e-04\n",
      "Epoch 16/60\n",
      "10/10 [==============================] - 25s 3s/step - loss: 4.8488e-04 - val_loss: 6.0927e-04\n",
      "Epoch 17/60\n",
      "10/10 [==============================] - 28s 3s/step - loss: 4.5485e-04 - val_loss: 4.4881e-04\n",
      "Epoch 18/60\n",
      "10/10 [==============================] - 27s 3s/step - loss: 4.3626e-04 - val_loss: 3.8679e-04\n",
      "Epoch 19/60\n",
      "10/10 [==============================] - 23s 2s/step - loss: 4.3361e-04 - val_loss: 4.5257e-04\n",
      "Epoch 20/60\n",
      "10/10 [==============================] - 25s 2s/step - loss: 4.2926e-04 - val_loss: 4.7146e-04\n",
      "Epoch 21/60\n",
      "10/10 [==============================] - 25s 2s/step - loss: 4.0926e-04 - val_loss: 4.2434e-04\n",
      "Epoch 22/60\n",
      "10/10 [==============================] - 25s 2s/step - loss: 4.3447e-04 - val_loss: 4.1873e-04\n",
      "Epoch 23/60\n",
      "10/10 [==============================] - 26s 3s/step - loss: 4.4282e-04 - val_loss: 3.8901e-04\n",
      "Epoch 24/60\n",
      "10/10 [==============================] - 23s 2s/step - loss: 3.9774e-04 - val_loss: 3.3277e-04\n",
      "Epoch 25/60\n",
      "10/10 [==============================] - 24s 2s/step - loss: 3.9149e-04 - val_loss: 3.8141e-04\n",
      "Epoch 26/60\n",
      "10/10 [==============================] - 23s 2s/step - loss: 3.6549e-04 - val_loss: 3.4599e-04\n",
      "Epoch 27/60\n",
      "10/10 [==============================] - 32s 3s/step - loss: 3.5142e-04 - val_loss: 3.3457e-04\n",
      "Epoch 28/60\n",
      "10/10 [==============================] - 28s 3s/step - loss: 3.5528e-04 - val_loss: 2.5936e-04\n",
      "Epoch 29/60\n",
      "10/10 [==============================] - 27s 3s/step - loss: 3.4672e-04 - val_loss: 3.5083e-04\n",
      "Epoch 30/60\n",
      "10/10 [==============================] - 24s 2s/step - loss: 3.2695e-04 - val_loss: 3.3026e-04\n",
      "Epoch 31/60\n",
      "10/10 [==============================] - 26s 3s/step - loss: 3.2264e-04 - val_loss: 2.3924e-04\n",
      "Epoch 32/60\n",
      "10/10 [==============================] - 25s 3s/step - loss: 3.0329e-04 - val_loss: 3.6336e-04\n",
      "Epoch 33/60\n",
      "10/10 [==============================] - 29s 3s/step - loss: 3.2538e-04 - val_loss: 1.7915e-04\n",
      "Epoch 34/60\n",
      "10/10 [==============================] - 29s 3s/step - loss: 3.1431e-04 - val_loss: 3.2679e-04\n",
      "Epoch 35/60\n",
      "10/10 [==============================] - 27s 3s/step - loss: 3.0452e-04 - val_loss: 1.7352e-04\n",
      "Epoch 36/60\n",
      "10/10 [==============================] - 27s 3s/step - loss: 3.0274e-04 - val_loss: 1.8159e-04\n",
      "Epoch 37/60\n",
      "10/10 [==============================] - 28s 3s/step - loss: 2.9626e-04 - val_loss: 2.1572e-04\n",
      "Epoch 38/60\n",
      "10/10 [==============================] - 28s 3s/step - loss: 2.7822e-04 - val_loss: 2.4866e-04\n",
      "Epoch 39/60\n",
      "10/10 [==============================] - 27s 3s/step - loss: 2.8411e-04 - val_loss: 1.6169e-04\n",
      "Epoch 40/60\n",
      "10/10 [==============================] - 27s 3s/step - loss: 3.1441e-04 - val_loss: 2.4399e-04\n",
      "Epoch 41/60\n",
      "10/10 [==============================] - 28s 3s/step - loss: 2.7264e-04 - val_loss: 1.9843e-04\n",
      "Epoch 42/60\n",
      "10/10 [==============================] - 27s 3s/step - loss: 2.7938e-04 - val_loss: 2.1039e-04\n",
      "Epoch 43/60\n",
      "10/10 [==============================] - 27s 3s/step - loss: 2.7204e-04 - val_loss: 1.8380e-04\n",
      "Epoch 44/60\n",
      "10/10 [==============================] - 28s 3s/step - loss: 2.5708e-04 - val_loss: 2.1748e-04\n",
      "Epoch 45/60\n",
      "10/10 [==============================] - 27s 3s/step - loss: 2.5886e-04 - val_loss: 1.6457e-04\n",
      "Epoch 46/60\n",
      "10/10 [==============================] - 24s 2s/step - loss: 2.7528e-04 - val_loss: 1.8897e-04\n",
      "Epoch 47/60\n",
      "10/10 [==============================] - 27s 3s/step - loss: 2.5785e-04 - val_loss: 3.4335e-04\n",
      "Epoch 48/60\n",
      "10/10 [==============================] - 23s 2s/step - loss: 2.6509e-04 - val_loss: 1.5655e-04\n",
      "Epoch 49/60\n",
      "10/10 [==============================] - 26s 3s/step - loss: 2.6935e-04 - val_loss: 3.2548e-04\n",
      "Epoch 50/60\n",
      "10/10 [==============================] - 29s 3s/step - loss: 2.5160e-04 - val_loss: 1.5636e-04\n",
      "Epoch 51/60\n",
      "10/10 [==============================] - 26s 3s/step - loss: 2.6356e-04 - val_loss: 3.7280e-04\n",
      "Epoch 52/60\n",
      "10/10 [==============================] - 26s 3s/step - loss: 2.6650e-04 - val_loss: 1.7015e-04\n",
      "Epoch 53/60\n",
      "10/10 [==============================] - 27s 3s/step - loss: 2.7012e-04 - val_loss: 1.8307e-04\n",
      "Epoch 54/60\n",
      "10/10 [==============================] - 26s 3s/step - loss: 2.7621e-04 - val_loss: 2.3548e-04\n",
      "Epoch 55/60\n",
      "10/10 [==============================] - 28s 3s/step - loss: 2.5285e-04 - val_loss: 2.4877e-04\n",
      "Epoch 56/60\n",
      "10/10 [==============================] - 27s 3s/step - loss: 2.3827e-04 - val_loss: 1.5684e-04\n",
      "Epoch 57/60\n",
      "10/10 [==============================] - 28s 3s/step - loss: 2.5525e-04 - val_loss: 3.1186e-04\n",
      "Epoch 58/60\n",
      "10/10 [==============================] - 27s 3s/step - loss: 2.3046e-04 - val_loss: 1.5694e-04\n",
      "Epoch 59/60\n",
      "10/10 [==============================] - 27s 3s/step - loss: 2.2602e-04 - val_loss: 1.7527e-04\n",
      "Epoch 60/60\n",
      "10/10 [==============================] - 26s 3s/step - loss: 2.2130e-04 - val_loss: 1.6860e-04\n"
     ]
    },
    {
     "data": {
      "text/plain": [
       "<keras.src.callbacks.History at 0x2d80a9fc7c0>"
      ]
     },
     "execution_count": 66,
     "metadata": {},
     "output_type": "execute_result"
    }
   ],
   "source": [
    "model.fit(X_train, y_train, validation_split=0.1, epochs=60, batch_size=64, verbose=1)"
   ]
  },
  {
   "cell_type": "code",
   "execution_count": 68,
   "id": "1755b79d",
   "metadata": {},
   "outputs": [],
   "source": [
    "X_test=X_train"
   ]
  },
  {
   "cell_type": "code",
   "execution_count": 69,
   "id": "745d128d",
   "metadata": {},
   "outputs": [
    {
     "name": "stdout",
     "output_type": "stream",
     "text": [
      "22/22 [==============================] - 6s 265ms/step\n",
      "22/22 [==============================] - 6s 280ms/step\n"
     ]
    }
   ],
   "source": [
    "train_predict = model.predict(X_train)\n",
    "test_predict = model.predict(X_test)"
   ]
  },
  {
   "cell_type": "markdown",
   "id": "a3b3a4be",
   "metadata": {},
   "source": [
    "# Calculating the Perfomance "
   ]
  },
  {
   "cell_type": "code",
   "execution_count": 70,
   "id": "10380375",
   "metadata": {},
   "outputs": [],
   "source": [
    "import math\n",
    "from sklearn.metrics import mean_squared_error"
   ]
  },
  {
   "cell_type": "code",
   "execution_count": 71,
   "id": "fd275692",
   "metadata": {},
   "outputs": [
    {
     "data": {
      "text/plain": [
       "0.0146696047770004"
      ]
     },
     "execution_count": 71,
     "metadata": {},
     "output_type": "execute_result"
    }
   ],
   "source": [
    "math.sqrt(mean_squared_error(y_train, train_predict))"
   ]
  },
  {
   "cell_type": "code",
   "execution_count": 72,
   "id": "0cfd0a7a",
   "metadata": {},
   "outputs": [
    {
     "data": {
      "image/png": "[encoded data removed]",
      "text/plain": [
       "<Figure size 700x500 with 1 Axes>"
      ]
     },
     "metadata": {},
     "output_type": "display_data"
    }
   ],
   "source": [
    "look_back = 100\n",
    "\n",
    "trainPredictPlot = np.empty_like(close_srt)\n",
    "trainPredictPlot[:, :] = np.nan\n",
    "trainPredictPlot[look_back:len(train_predict)+look_back, :] = train_predict\n",
    "\n",
    "testPredictPlot = np.empty_like(close_srt)\n",
    "testPredictPlot[:, :] = np.nan\n",
    "testPredictPlot[look_back:len(train_predict)+look_back, :] = test_predict\n",
    "\n",
    "plt.figure(figsize=(7,5))\n",
    "\n",
    "plt.plot(trainPredictPlot)\n",
    "plt.plot(testPredictPlot)\n",
    "plt.show()"
   ]
  }
 ],
 "metadata": {
  "kernelspec": {
   "display_name": "Python 3 (ipykernel)",
   "language": "python",
   "name": "python3"
  },
  "language_info": {
   "codemirror_mode": {
    "name": "ipython",
    "version": 3
   },
   "file_extension": ".py",
   "mimetype": "text/x-python",
   "name": "python",
   "nbconvert_exporter": "python",
   "pygments_lexer": "ipython3",
   "version": "3.10.9"
  }
 },
 "nbformat": 4,
 "nbformat_minor": 5
}
